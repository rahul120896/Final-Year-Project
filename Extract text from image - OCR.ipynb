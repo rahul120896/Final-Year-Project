{
 "cells": [
  {
   "cell_type": "code",
   "execution_count": null,
   "metadata": {},
   "outputs": [],
   "source": [
    "from PIL import Image\n",
    "import pytesseract as tess\n",
    "import os\n",
    "import pandas as pd\n",
    "import openpyxl"
   ]
  },
  {
   "cell_type": "code",
   "execution_count": null,
   "metadata": {},
   "outputs": [],
   "source": [
    "tess.pytesseract.tesseract_cmd = r'C:\\Program Files\\Tesseract-OCR\\tesseract.exe' #exe required for executing OCR"
   ]
  },
  {
   "cell_type": "code",
   "execution_count": null,
   "metadata": {},
   "outputs": [],
   "source": [
    "wb = openpyxl.Workbook() "
   ]
  },
  {
   "cell_type": "code",
   "execution_count": null,
   "metadata": {},
   "outputs": [],
   "source": [
    "sheet = wb.active "
   ]
  },
  {
   "cell_type": "code",
   "execution_count": null,
   "metadata": {},
   "outputs": [],
   "source": [
    "sheet.title=\"Ocr_Module\""
   ]
  },
  {
   "cell_type": "code",
   "execution_count": null,
   "metadata": {},
   "outputs": [],
   "source": [
    "c1 = sheet.cell(row = 1, column = 1) "
   ]
  },
  {
   "cell_type": "code",
   "execution_count": null,
   "metadata": {},
   "outputs": [],
   "source": [
    "c1.value=\"S.No\""
   ]
  },
  {
   "cell_type": "code",
   "execution_count": null,
   "metadata": {},
   "outputs": [],
   "source": [
    "c2 = sheet.cell(row = 1, column = 2)\n",
    "c2.value=\"Image_id\""
   ]
  },
  {
   "cell_type": "code",
   "execution_count": null,
   "metadata": {},
   "outputs": [],
   "source": [
    "c3 = sheet.cell(row = 1, column = 3)\n",
    "c3.value=\"OCR_Text\""
   ]
  },
  {
   "cell_type": "code",
   "execution_count": null,
   "metadata": {},
   "outputs": [],
   "source": [
    "c4 = sheet.cell(row = 1, column = 4)\n",
    "c4.value= \"Domain\""
   ]
  },
  {
   "cell_type": "code",
   "execution_count": null,
   "metadata": {},
   "outputs": [],
   "source": [
    "file=os.listdir('It meme/') #List the files in that path"
   ]
  },
  {
   "cell_type": "code",
   "execution_count": null,
   "metadata": {},
   "outputs": [],
   "source": [
    "for i in range(2,len(file)+1,1):\n",
    "    cell1=sheet.cell(row=i,column=1)\n",
    "    cell1.value=i\n",
    "    cell2=sheet.cell(row=i,column=2)\n",
    "    cell2.value=file[i-2]   \n",
    "    image='It meme\\\\'+file[i-1]\n",
    "    img=Image.open(image)\n",
    "    text=tess.image_to_string(img) # converts image to string by extracting the text from image\n",
    "    cell3=sheet.cell(row=i,column=3)\n",
    "    cell3.value=text\n",
    "    cell4=sheet.cell(row=i,column=4)\n",
    "    cell4.value='Education'\n",
    "    \n",
    "wb.save(r\"C:\\Users\\320086442\\Desktop\\Final Project\\Review\\Panel\\OCRIt.xlsx\")"
   ]
  },
  {
   "cell_type": "code",
   "execution_count": null,
   "metadata": {},
   "outputs": [],
   "source": [
    "for items in os.listdir('It meme/'):\n",
    "    image='It meme\\\\'+items\n",
    "    img=Image.open(image)\n",
    "    \n",
    "     #converts image to string by extracting the text from image\n",
    "    text=tess.image_to_string(img)\n",
    "    print(text)"
   ]
  },
  {
   "cell_type": "code",
   "execution_count": null,
   "metadata": {},
   "outputs": [],
   "source": [
    "pip install pdf2image"
   ]
  },
  {
   "cell_type": "code",
   "execution_count": null,
   "metadata": {},
   "outputs": [],
   "source": [
    "pd.read_excel(\"C:\\Users\\320086442\\Desktop\\Final Project\\Review\\Panel\\OCRIt.xlsx\")"
   ]
  },
  {
   "cell_type": "code",
   "execution_count": null,
   "metadata": {},
   "outputs": [],
   "source": [
    "img1= Image.open(\"C:\\\\Users\\\\320086442\\\\Desktop\\\\Final Project\\\\Review\\\\Panel\\\\Image.jpg\")\n",
    "text=tess.image_to_string(img1)\n",
    "print(text)"
   ]
  },
  {
   "cell_type": "code",
   "execution_count": null,
   "metadata": {},
   "outputs": [],
   "source": []
  }
 ],
 "metadata": {
  "kernelspec": {
   "display_name": "Python 3",
   "language": "python",
   "name": "python3"
  },
  "language_info": {
   "codemirror_mode": {
    "name": "ipython",
    "version": 3
   },
   "file_extension": ".py",
   "mimetype": "text/x-python",
   "name": "python",
   "nbconvert_exporter": "python",
   "pygments_lexer": "ipython3",
   "version": "3.7.3"
  }
 },
 "nbformat": 4,
 "nbformat_minor": 2
}
